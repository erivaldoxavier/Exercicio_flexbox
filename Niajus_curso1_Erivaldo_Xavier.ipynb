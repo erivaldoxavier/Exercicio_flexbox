{
  "nbformat": 4,
  "nbformat_minor": 0,
  "metadata": {
    "colab": {
      "provenance": [],
      "authorship_tag": "ABX9TyP+5mHRkp/huYQ2Ffb65vjX",
      "include_colab_link": true
    },
    "kernelspec": {
      "name": "python3",
      "display_name": "Python 3"
    },
    "language_info": {
      "name": "python"
    }
  },
  "cells": [
    {
      "cell_type": "markdown",
      "metadata": {
        "id": "view-in-github",
        "colab_type": "text"
      },
      "source": [
        "<a href=\"https://colab.research.google.com/github/erivaldoxavier/Exercicio_flexbox/blob/master/Niajus_curso1_Erivaldo_Xavier.ipynb\" target=\"_parent\"><img src=\"https://colab.research.google.com/assets/colab-badge.svg\" alt=\"Open In Colab\"/></a>"
      ]
    },
    {
      "cell_type": "code",
      "execution_count": 1,
      "metadata": {
        "id": "7k2_9CWdtPb8",
        "colab": {
          "base_uri": "https://localhost:8080/"
        },
        "outputId": "75fa50d9-e8cd-4e91-9bd1-a62c341d37e0"
      },
      "outputs": [
        {
          "output_type": "stream",
          "name": "stdout",
          "text": [
            "A raiz quadrada aproximada de  25  é igual a  5.0048828125\n"
          ]
        }
      ],
      "source": [
        "# um algoritmo ingênuo para cálculo de raiz quadrada, baseado em busca binária\n",
        "# entrada de dados\n",
        "# número de entrada, isso é, para o qual se quer a raiz quadrada\n",
        "number = 25\n",
        "# início do cálculo\n",
        "# inicializando o valor mínimo da raiz como 0\n",
        "minimum = 0\n",
        "# inicializando o valor máximo da raiz como sendo igual ao número de entrada\n",
        "maximum = number\n",
        "# repita as linhas a seguir (laço) 10 vezes,\n",
        "# para obter uma boa aproximação\n",
        "for i in range(10):\n",
        "  # obtendo o valor médio\n",
        "  middle = ( minimum + maximum ) / 2\n",
        "  # obtendo o quadrado do valor médio\n",
        "  squareValue = middle * middle\n",
        "  # verificando se chegamos ao valor exato da raiz\n",
        "  if squareValue == number:\n",
        "     # encontrou a raiz exata! sai do laço\n",
        "     break\n",
        "  elif squareValue > number:\n",
        "  # ajustando um novo intervalo onde se encontra a raiz\n",
        "     maximum = middle\n",
        "  else:\n",
        "     minimum = middle\n",
        "# saída de dados\n",
        "# imprime o valor médio, que é uma boa aproximação da raiz\n",
        "print(\"A raiz quadrada aproximada de \", number, \" é igual a \", middle)"
      ]
    },
    {
      "cell_type": "code",
      "source": [],
      "metadata": {
        "id": "886F184yrDQW"
      },
      "execution_count": null,
      "outputs": []
    },
    {
      "cell_type": "code",
      "source": [
        "# importandando math e realizando o calculo da raiz quadrada de 25\n",
        "import math\n",
        "math.sqrt(25)"
      ],
      "metadata": {
        "colab": {
          "base_uri": "https://localhost:8080/"
        },
        "id": "Rqs_wtdFrDgD",
        "outputId": "9a0d7e49-e673-4b17-9451-7e71b0d6619a"
      },
      "execution_count": 2,
      "outputs": [
        {
          "output_type": "execute_result",
          "data": {
            "text/plain": [
              "5.0"
            ]
          },
          "metadata": {},
          "execution_count": 2
        }
      ]
    },
    {
      "cell_type": "code",
      "source": [
        "import math\n",
        "n=int(input(\"digite uma numero: \"))\n",
        "math.sqrt (n)\n",
        "\n"
      ],
      "metadata": {
        "colab": {
          "base_uri": "https://localhost:8080/"
        },
        "id": "LlXA7UL6vgcz",
        "outputId": "339b2467-9802-4d88-b71b-644304ead16a"
      },
      "execution_count": 7,
      "outputs": [
        {
          "name": "stdout",
          "output_type": "stream",
          "text": [
            "digite uma numero: .45\n"
          ]
        },
        {
          "output_type": "execute_result",
          "data": {
            "text/plain": [
              "6.708203932499369"
            ]
          },
          "metadata": {},
          "execution_count": 7
        }
      ]
    },
    {
      "cell_type": "code",
      "source": [
        "import math\n",
        "raiz=float(input(\"digite o valor de  pi:  \"))\n",
        "math.sqrt (raiz)\n"
      ],
      "metadata": {
        "colab": {
          "base_uri": "https://localhost:8080/"
        },
        "id": "sCgq9CLOxEOA",
        "outputId": "637c8233-78c7-4482-e5a3-94783a851bac"
      },
      "execution_count": 17,
      "outputs": [
        {
          "name": "stdout",
          "output_type": "stream",
          "text": [
            "digite o valor de  pi:  3.14\n"
          ]
        },
        {
          "output_type": "execute_result",
          "data": {
            "text/plain": [
              "1.772004514666935"
            ]
          },
          "metadata": {},
          "execution_count": 17
        }
      ]
    }
  ]
}