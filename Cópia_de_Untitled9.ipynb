{
  "nbformat": 4,
  "nbformat_minor": 0,
  "metadata": {
    "colab": {
      "provenance": [],
      "authorship_tag": "ABX9TyPyhstqmdBqYJWPOtqceaIp",
      "include_colab_link": true
    },
    "kernelspec": {
      "name": "python3",
      "display_name": "Python 3"
    },
    "language_info": {
      "name": "python"
    }
  },
  "cells": [
    {
      "cell_type": "markdown",
      "metadata": {
        "id": "view-in-github",
        "colab_type": "text"
      },
      "source": [
        "<a href=\"https://colab.research.google.com/github/erivaldoxavier/Exercicio_flexbox/blob/master/C%C3%B3pia_de_Untitled9.ipynb\" target=\"_parent\"><img src=\"https://colab.research.google.com/assets/colab-badge.svg\" alt=\"Open In Colab\"/></a>"
      ]
    },
    {
      "cell_type": "code",
      "source": [
        "import cv2\n",
        "\n",
        "# Carrega o classificador pré-treinado para detecção de faces\n",
        "face_cascade = cv2.CascadeClassifier(cv2.data.haarcascades + 'haarcascade_frontalface_default.xml')\n",
        "\n",
        "# Inicializa a contagem de faces\n",
        "count = 0\n",
        "\n",
        "# Função para detectar e contar faces em uma imagem\n",
        "def detect_and_count_faces(image):\n",
        "    gray = cv2.cvtColor(image, cv2.COLOR_BGR2GRAY)\n",
        "\n",
        "    # Realiza a detecção de faces na imagem\n",
        "    faces = face_cascade.detectMultiScale(gray, scaleFactor=1.3, minNeighbors=5)\n",
        "\n",
        "    # Atualiza a contagem de faces\n",
        "    count = len(faces)\n",
        "\n",
        "    # Desenha os retângulos em volta das faces detectadas\n",
        "    for (x, y, w, h) in faces:\n",
        "        cv2.rectangle(image, (x, y), (x + w, y + h), (0, 255, 0), 2)\n",
        "\n",
        "    # Escreve a contagem de faces na imagem\n",
        "    cv2.putText(image, f'Count: {count}', (10, 30), cv2.FONT_HERSHEY_SIMPLEX, 1, (0, 0, 255), 2, cv2.LINE_AA)\n",
        "\n",
        "    return image, count\n",
        "\n",
        "# Inicializa a captura de vídeo\n",
        "cap = cv2.VideoCapture(0)  # Use 0 para a webcam, ou especifique o caminho para um arquivo de vídeo\n",
        "\n",
        "while True:\n",
        "    # Lê o próximo frame do vídeo\n",
        "    ret, frame = cap.read()\n",
        "\n",
        "    # Verifica se a captura de vídeo foi bem-sucedida\n",
        "    if not ret:\n",
        "        break\n",
        "\n",
        "    # Realiza a detecção e contagem de faces no frame\n",
        "    frame, count = detect_and_count_faces(frame)\n",
        "\n",
        "    # Exibe o frame resultante com a contagem de faces\n",
        "    cv2.imshow('Face Detection', frame)\n",
        "\n",
        "    # Verifica se a tecla 'q' foi pressionada para encerrar o programa\n",
        "    if cv2.waitKey(1) & 0xFF == ord('q'):\n",
        "        break\n",
        "\n",
        "# Libera a captura de vídeo e fecha as janelas\n",
        "cap.release()\n",
        "cv2.destroyAllWindows()\n"
      ],
      "metadata": {
        "id": "ob5YLoyjW6-Q"
      },
      "execution_count": null,
      "outputs": []
    }
  ]
}